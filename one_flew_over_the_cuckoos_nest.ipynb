{
 "cells": [
  {
   "cell_type": "code",
   "execution_count": 1,
   "metadata": {},
   "outputs": [
    {
     "name": "stdout",
     "output_type": "stream",
     "text": [
      "Requirement already satisfied: FastDTW in /opt/anaconda3/lib/python3.8/site-packages (0.3.4)\n",
      "Requirement already satisfied: numpy in /opt/anaconda3/lib/python3.8/site-packages (from FastDTW) (1.18.5)\n",
      "Note: you may need to restart the kernel to use updated packages.\n"
     ]
    }
   ],
   "source": [
    "pip install FastDTW"
   ]
  },
  {
   "cell_type": "code",
   "execution_count": 2,
   "metadata": {},
   "outputs": [],
   "source": [
    "from scipy.io import wavfile\n",
    "from matplotlib import pyplot as plt\n",
    "import numpy as np\n",
    "\n",
    "from scipy.spatial.distance import euclidean\n",
    "from fastdtw import fastdtw"
   ]
  },
  {
   "cell_type": "code",
   "execution_count": 3,
   "metadata": {},
   "outputs": [],
   "source": [
    "# Read stored audio files for comparison\n",
    "fs1, data1 = wavfile.read(\"oneflew1.wav\")\n",
    "fs2, data2 = wavfile.read(\"oneflew2.wav\")\n",
    "fs3, data3 = wavfile.read(\"ilovepython.wav\")"
   ]
  },
  {
   "cell_type": "code",
   "execution_count": 5,
   "metadata": {},
   "outputs": [
    {
     "data": {
      "image/png": "[encoded data removed]",
      "text/plain": [
       "<Figure size 432x288 with 1 Axes>"
      ]
     },
     "metadata": {},
     "output_type": "display_data"
    },
    {
     "data": {
      "text/plain": [
       "None"
      ]
     },
     "metadata": {},
     "output_type": "display_data"
    }
   ],
   "source": [
    "#Let's visualize the audio files we just imported using Python's matplotlib library we imported earlier\n",
    "from matplotlib.pyplot import figure\n",
    "# Set plot style\n",
    "plt.style.use(\"seaborn-whitegrid\")\n",
    "\n",
    "# Create subplots for first audio file for \"One Flew Over the Cuckoo's Nest\"\n",
    "ax = plt.subplot(2, 2, 1)\n",
    "ax.plot(data1, color=\"#67A0DF\")\n",
    "# Display created figure for first audio file for \"One Flew Over the Cuckoo's Nest\"\n",
    "fig=plt.show()\n",
    "display(fig)"
   ]
  },
  {
   "cell_type": "code",
   "execution_count": null,
   "metadata": {},
   "outputs": [],
   "source": []
  }
 ],
 "metadata": {
  "kernelspec": {
   "display_name": "Python 3",
   "language": "python",
   "name": "python3"
  },
  "language_info": {
   "codemirror_mode": {
    "name": "ipython",
    "version": 3
   },
   "file_extension": ".py",
   "mimetype": "text/x-python",
   "name": "python",
   "nbconvert_exporter": "python",
   "pygments_lexer": "ipython3",
   "version": "3.8.3"
  }
 },
 "nbformat": 4,
 "nbformat_minor": 4
}
