{
 "cells": [
  {
   "cell_type": "code",
   "execution_count": 1,
   "metadata": {},
   "outputs": [
    {
     "name": "stdout",
     "output_type": "stream",
     "text": [
      "Requirement already satisfied: FastDTW in /opt/anaconda3/lib/python3.8/site-packages (0.3.4)\n",
      "Requirement already satisfied: numpy in /opt/anaconda3/lib/python3.8/site-packages (from FastDTW) (1.18.5)\n",
      "Note: you may need to restart the kernel to use updated packages.\n"
     ]
    }
   ],
   "source": [
    "pip install FastDTW"
   ]
  },
  {
   "cell_type": "code",
   "execution_count": 2,
   "metadata": {},
   "outputs": [],
   "source": [
    "from scipy.io import wavfile\n",
    "from matplotlib import pyplot as plt\n",
    "import numpy as np\n",
    "\n",
    "from scipy.spatial.distance import euclidean\n",
    "from fastdtw import fastdtw"
   ]
  },
  {
   "cell_type": "code",
   "execution_count": 3,
   "metadata": {},
   "outputs": [],
   "source": [
    "# Read stored audio files for comparison\n",
    "fs1, data1 = wavfile.read(\"oneflew1.wav\")\n",
    "fs2, data2 = wavfile.read(\"oneflew2.wav\")\n",
    "fs3, data3 = wavfile.read(\"ilovepython.wav\")"
   ]
  },
  {
   "cell_type": "code",
   "execution_count": 4,
   "metadata": {},
   "outputs": [
    {
     "data": {
      "image/png": "[encoded data removed]",
      "text/plain": [
       "<Figure size 432x288 with 1 Axes>"
      ]
     },
     "metadata": {},
     "output_type": "display_data"
    },
    {
     "data": {
      "text/plain": [
       "None"
      ]
     },
     "metadata": {},
     "output_type": "display_data"
    }
   ],
   "source": [
    "#Let's visualize the audio files we just imported using Python's matplotlib library we imported earlier\n",
    "from matplotlib.pyplot import figure\n",
    "# Set plot style\n",
    "plt.style.use(\"seaborn-whitegrid\")\n",
    "\n",
    "# Create subplots for first audio file for \"One Flew Over the Cuckoo's Nest\"\n",
    "ax = plt.subplot(2, 2, 1)\n",
    "ax.plot(data1, color=\"#67A0DF\")\n",
    "# Display created figure for first audio file for \"One Flew Over the Cuckoo's Nest\"\n",
    "fig=plt.show()\n",
    "display(fig)"
   ]
  },
  {
   "cell_type": "code",
   "execution_count": 5,
   "metadata": {},
   "outputs": [
    {
     "data": {
      "image/png": "[encoded data removed]",
      "text/plain": [
       "<Figure size 432x288 with 1 Axes>"
      ]
     },
     "metadata": {},
     "output_type": "display_data"
    },
    {
     "data": {
      "text/plain": [
       "None"
      ]
     },
     "metadata": {},
     "output_type": "display_data"
    }
   ],
   "source": [
    "# Create subplots for second audio file for \"One Flew Over the Cuckoo's Nest\"\n",
    "ax = plt.subplot(2, 2, 1)\n",
    "ax.plot(data2, color=\"#dad867\")\n",
    "\n",
    "# Display created figure for second audio file for \"One Flew Over the Cuckoo's Nest\"\n",
    "fig=plt.show()\n",
    "display(fig)"
   ]
  },
  {
   "cell_type": "code",
   "execution_count": 6,
   "metadata": {},
   "outputs": [
    {
     "data": {
      "image/png": "[encoded data removed]",
      "text/plain": [
       "<Figure size 432x288 with 1 Axes>"
      ]
     },
     "metadata": {},
     "output_type": "display_data"
    },
    {
     "data": {
      "text/plain": [
       "None"
      ]
     },
     "metadata": {},
     "output_type": "display_data"
    }
   ],
   "source": [
    "# Create subplots for third audio file for \"I Love Python and I Can't Stop\"\n",
    "ax = plt.subplot(2, 2, 1)\n",
    "ax.plot(data3, color=\"#da7667\")\n",
    "\n",
    "# Display created figure for third audio file for \"I Love Python and I Can't Stop\"\n",
    "fig=plt.show()\n",
    "display(fig)"
   ]
  },
  {
   "cell_type": "code",
   "execution_count": 7,
   "metadata": {},
   "outputs": [],
   "source": [
    "#As you can see from the three images above, the first two audio files have the same shape but with different amplitude\n",
    "#and pacing because it is the same phrase (\"One Flew Over the Cuckoo's Nest\"). \n",
    "#While the third file has a different shape as it is a different phrase altogether (\"I Love Python and I Can't Stop\")\n",
    "\n"
   ]
  },
  {
   "cell_type": "code",
   "execution_count": 8,
   "metadata": {},
   "outputs": [
    {
     "data": {
      "text/plain": [
       "1.0"
      ]
     },
     "execution_count": 8,
     "metadata": {},
     "output_type": "execute_result"
    }
   ],
   "source": [
    "# First to compare the different audio files above \n",
    "# Using the traditional Euclidean distance calculation. \n",
    "# The traditional Euclidean distance calculation In the simplest terms\n",
    "# calculates the distance between any two points as a numerical difference between their coordinates. \n",
    "# if a and b are two points on a line, then the distance between them is calculated as: \n",
    "# (a-b) - this is assuming we are in a single dimensional plane. \n",
    "# To extend this to a two dimensional space, assuming point a has coordinates (a1, a2) and point b has coordinates (b1, b2\n",
    "# formula: sqrt ((a1-b1)^2 + (a2-b2)^2). \n",
    "# In the formula by squaring and then taking a square root, ensures that you get an absolute value and eliminate any negative values. \n",
    "# Extend this formula to n dimensions by having n number of coordinates but still squaring and then taking a square root: \n",
    "# sqrt ((a1-b1)^2 + (a2-b2)^2....+(an-bn)^2)\n",
    "# Python provides a simple function in numpy library called linalg and it simply calculates the difference between two \n",
    "# vectors as long as they are represented as an array. \n",
    "# The problem with this approach is that it completely does not take into account any time scale or latency differences. \n",
    "# apply this formula to compare the first two wav files that both have the same phrase of \"One Flew Over the Cuckoo's Nest\"\n",
    "\n",
    "np.linalg.norm(data1[0]-data2[0])"
   ]
  },
  {
   "cell_type": "code",
   "execution_count": 9,
   "metadata": {},
   "outputs": [
    {
     "data": {
      "text/plain": [
       "1.0"
      ]
     },
     "execution_count": 9,
     "metadata": {},
     "output_type": "execute_result"
    }
   ],
   "source": [
    "#We get a result of 1.0. Compare one of the first two files with the third file that has the phrase \"I Love Python\"\n",
    "np.linalg.norm(data1[0]-data3[0])"
   ]
  },
  {
   "cell_type": "code",
   "execution_count": 10,
   "metadata": {},
   "outputs": [
    {
     "data": {
      "text/plain": [
       "104951593.0"
      ]
     },
     "execution_count": 10,
     "metadata": {},
     "output_type": "execute_result"
    }
   ],
   "source": [
    "#The Euclidean vector difference is not taking the time axis and latency differences into account\n",
    "#therefore is not able to differentiate between the wav files\n",
    "\n",
    "#For time warping comparison, we will use the FastDW PyPi. \n",
    "#FastDW compares the distance between the different sound files. \n",
    "#Expectation is that the files that are a closer match will have a shorter distance\n",
    "#The FastDW library will account for the different pacing and amplitude changes when calculatingthe distance\n",
    "\n",
    "#Distance between audio file 1 and 2\n",
    "fastdtw(data1, data2)[0]"
   ]
  },
  {
   "cell_type": "code",
   "execution_count": 11,
   "metadata": {},
   "outputs": [
    {
     "data": {
      "text/plain": [
       "110068574.0"
      ]
     },
     "execution_count": 11,
     "metadata": {},
     "output_type": "execute_result"
    }
   ],
   "source": [
    "#Distance between audio file 1 and 3\n",
    "fastdtw(data1, data3)[0]"
   ]
  },
  {
   "cell_type": "code",
   "execution_count": 12,
   "metadata": {},
   "outputs": [],
   "source": [
    "#As expected, the first two audio files have a shorter distance \n",
    "#because they are the same phrase spoken with a different voice\n",
    "#Amplitude and latency while the distance between the first and third file is longer \n",
    "#because they are two completely different phrases"
   ]
  },
  {
   "cell_type": "code",
   "execution_count": null,
   "metadata": {},
   "outputs": [],
   "source": []
  }
 ],
 "metadata": {
  "kernelspec": {
   "display_name": "Python 3",
   "language": "python",
   "name": "python3"
  },
  "language_info": {
   "codemirror_mode": {
    "name": "ipython",
    "version": 3
   },
   "file_extension": ".py",
   "mimetype": "text/x-python",
   "name": "python",
   "nbconvert_exporter": "python",
   "pygments_lexer": "ipython3",
   "version": "3.8.3"
  }
 },
 "nbformat": 4,
 "nbformat_minor": 4
}
